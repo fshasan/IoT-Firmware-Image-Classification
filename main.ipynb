{
  "nbformat": 4,
  "nbformat_minor": 0,
  "metadata": {
    "colab": {
      "provenance": []
    },
    "kernelspec": {
      "name": "python3",
      "display_name": "Python 3"
    },
    "language_info": {
      "name": "python"
    }
  },
  "cells": [
    {
      "cell_type": "code",
      "execution_count": null,
      "metadata": {
        "id": "SM_qd1pI3KQq"
      },
      "outputs": [],
      "source": [
        "from google.colab import drive\n",
        "import os\n",
        "import cv2\n",
        "import numpy as np\n",
        "from sklearn.model_selection import train_test_split\n",
        "from tensorflow.keras.utils import to_categorical"
      ]
    },
    {
      "cell_type": "code",
      "source": [
        "# Mount Google Drive\n",
        "drive.mount('/content/drive')"
      ],
      "metadata": {
        "colab": {
          "base_uri": "https://localhost:8080/"
        },
        "id": "gPvx2Q6ucCW-",
        "outputId": "26486cd1-35aa-4357-885f-c175b9a6aaf6"
      },
      "execution_count": null,
      "outputs": [
        {
          "output_type": "stream",
          "name": "stdout",
          "text": [
            "Drive already mounted at /content/drive; to attempt to forcibly remount, call drive.mount(\"/content/drive\", force_remount=True).\n"
          ]
        }
      ]
    },
    {
      "cell_type": "code",
      "source": [
        "# Define the path to your dataset directory\n",
        "dataset_path = '/content/drive/My Drive/IOT-Firmware-dataset/imagery'\n",
        "\n",
        "# Define the image dimensions you want to resize to\n",
        "img_width, img_height = 224, 224\n",
        "\n",
        "# Load and preprocess the images and labels\n",
        "images = []\n",
        "labels = []\n",
        "\n",
        "class_names = ['benignware', 'gray', 'hackware', 'malware']"
      ],
      "metadata": {
        "id": "6UMrgySeboAl"
      },
      "execution_count": null,
      "outputs": []
    },
    {
      "cell_type": "code",
      "source": [
        "for class_index, class_name in enumerate(class_names):\n",
        "    class_dir = os.path.join(dataset_path, class_name)\n",
        "    for image_name in os.listdir(class_dir):\n",
        "        image_path = os.path.join(class_dir, image_name)\n",
        "        image = cv2.imread(image_path)\n",
        "        image = cv2.resize(image, (img_width, img_height))\n",
        "        images.append(image)\n",
        "        labels.append(class_index)\n",
        "\n",
        "# Convert images and labels to NumPy arrays\n",
        "images = np.array(images)\n",
        "labels = np.array(labels)"
      ],
      "metadata": {
        "id": "kygEb6SfcV4i"
      },
      "execution_count": null,
      "outputs": []
    },
    {
      "cell_type": "code",
      "source": [
        "print(images)"
      ],
      "metadata": {
        "id": "N_ITz67idWtV"
      },
      "execution_count": null,
      "outputs": []
    },
    {
      "cell_type": "code",
      "source": [
        "# Split the dataset into training, validation, and test sets\n",
        "train_images, test_images, train_labels, test_labels = train_test_split(\n",
        "    images, labels, test_size=0.2, random_state=42\n",
        ")\n",
        "val_images, test_images, val_labels, test_labels = train_test_split(\n",
        "    test_images, test_labels, test_size=0.5, random_state=42\n",
        ")"
      ],
      "metadata": {
        "id": "p0hKFdIYfXo7"
      },
      "execution_count": null,
      "outputs": []
    },
    {
      "cell_type": "code",
      "source": [
        "# Normalize pixel values to the range [0, 1]\n",
        "train_images = train_images / 255.0\n",
        "val_images = val_images / 255.0\n",
        "test_images = test_images / 255.0\n",
        "\n",
        "# One-hot encode the labels\n",
        "num_classes = len(class_names)\n",
        "train_labels = to_categorical(train_labels, num_classes)\n",
        "val_labels = to_categorical(val_labels, num_classes)\n",
        "test_labels = to_categorical(test_labels, num_classes)"
      ],
      "metadata": {
        "id": "root0zyijIAx"
      },
      "execution_count": null,
      "outputs": []
    },
    {
      "cell_type": "markdown",
      "source": [
        "ANN"
      ],
      "metadata": {
        "id": "s3ojUiX-n746"
      }
    },
    {
      "cell_type": "code",
      "source": [
        "import tensorflow as tf\n",
        "from tensorflow.keras.models import Sequential\n",
        "from tensorflow.keras.layers import Flatten, Dense, Dropout\n",
        "\n",
        "# Define the model\n",
        "model = Sequential([\n",
        "    Flatten(input_shape=(img_width, img_height, 3)),  # Flattens the 2D image data into a 1D vector\n",
        "    Dense(128, activation='relu'),  # Fully connected layer with 128 neurons and ReLU activation\n",
        "    Dropout(0.5),  # Dropout layer to reduce overfitting\n",
        "    Dense(64, activation='relu'),  # Fully connected layer with 64 neurons and ReLU activation\n",
        "    Dropout(0.5),  # Dropout layer\n",
        "    Dense(num_classes, activation='softmax')  # Output layer with softmax activation for classification\n",
        "])\n",
        "\n",
        "# Compile the model\n",
        "model.compile(optimizer='adam', loss='categorical_crossentropy', metrics=['accuracy'])\n",
        "\n",
        "# Print the model summary\n",
        "model.summary()\n"
      ],
      "metadata": {
        "colab": {
          "base_uri": "https://localhost:8080/"
        },
        "id": "EjfPPBQYjiOE",
        "outputId": "7b3df15b-d2bc-410a-d23c-464e6d3ff883"
      },
      "execution_count": null,
      "outputs": [
        {
          "output_type": "stream",
          "name": "stdout",
          "text": [
            "Model: \"sequential\"\n",
            "_________________________________________________________________\n",
            " Layer (type)                Output Shape              Param #   \n",
            "=================================================================\n",
            " flatten (Flatten)           (None, 150528)            0         \n",
            "                                                                 \n",
            " dense (Dense)               (None, 128)               19267712  \n",
            "                                                                 \n",
            " dropout (Dropout)           (None, 128)               0         \n",
            "                                                                 \n",
            " dense_1 (Dense)             (None, 64)                8256      \n",
            "                                                                 \n",
            " dropout_1 (Dropout)         (None, 64)                0         \n",
            "                                                                 \n",
            " dense_2 (Dense)             (None, 4)                 260       \n",
            "                                                                 \n",
            "=================================================================\n",
            "Total params: 19,276,228\n",
            "Trainable params: 19,276,228\n",
            "Non-trainable params: 0\n",
            "_________________________________________________________________\n"
          ]
        }
      ]
    },
    {
      "cell_type": "code",
      "source": [
        "# Train the model\n",
        "history = model.fit(\n",
        "    train_images, train_labels,\n",
        "    epochs=10,\n",
        "    batch_size=32,\n",
        "    validation_data=(val_images, val_labels)\n",
        ")"
      ],
      "metadata": {
        "colab": {
          "base_uri": "https://localhost:8080/"
        },
        "id": "BC42sSH2jm__",
        "outputId": "9366e50e-76e4-4722-da36-04cc0ec37089"
      },
      "execution_count": null,
      "outputs": [
        {
          "output_type": "stream",
          "name": "stdout",
          "text": [
            "Epoch 1/10\n",
            "113/113 [==============================] - 49s 420ms/step - loss: 5.2086 - accuracy: 0.6614 - val_loss: 0.7151 - val_accuracy: 0.8125\n",
            "Epoch 2/10\n",
            "113/113 [==============================] - 44s 392ms/step - loss: 1.2277 - accuracy: 0.7718 - val_loss: 0.3260 - val_accuracy: 0.8125\n",
            "Epoch 3/10\n",
            "113/113 [==============================] - 42s 369ms/step - loss: 0.5480 - accuracy: 0.7721 - val_loss: 0.2922 - val_accuracy: 0.8125\n",
            "Epoch 4/10\n",
            "113/113 [==============================] - 42s 374ms/step - loss: 0.6008 - accuracy: 0.7417 - val_loss: 0.3946 - val_accuracy: 0.8147\n",
            "Epoch 5/10\n",
            "113/113 [==============================] - 42s 368ms/step - loss: 0.6031 - accuracy: 0.7409 - val_loss: 0.3084 - val_accuracy: 0.8058\n",
            "Epoch 6/10\n",
            "113/113 [==============================] - 42s 367ms/step - loss: 0.5468 - accuracy: 0.7370 - val_loss: 0.2562 - val_accuracy: 0.8147\n",
            "Epoch 7/10\n",
            "113/113 [==============================] - 41s 358ms/step - loss: 0.5586 - accuracy: 0.7403 - val_loss: 0.2470 - val_accuracy: 0.8147\n",
            "Epoch 8/10\n",
            "113/113 [==============================] - 44s 387ms/step - loss: 0.6174 - accuracy: 0.7409 - val_loss: 0.2465 - val_accuracy: 0.8147\n",
            "Epoch 9/10\n",
            "113/113 [==============================] - 42s 371ms/step - loss: 0.6234 - accuracy: 0.7456 - val_loss: 0.2694 - val_accuracy: 0.8147\n",
            "Epoch 10/10\n",
            "113/113 [==============================] - 42s 372ms/step - loss: 0.6829 - accuracy: 0.7448 - val_loss: 0.5425 - val_accuracy: 0.8170\n"
          ]
        }
      ]
    },
    {
      "cell_type": "markdown",
      "source": [
        "CNN"
      ],
      "metadata": {
        "id": "tMQi2FUsn3H5"
      }
    },
    {
      "cell_type": "code",
      "source": [
        "import tensorflow as tf\n",
        "from tensorflow.keras.models import Sequential\n",
        "from tensorflow.keras.layers import Conv2D, MaxPooling2D, Flatten, Dense, Dropout\n",
        "\n",
        "# Define the model\n",
        "model = Sequential([\n",
        "    Conv2D(32, (3, 3), activation='relu', input_shape=(img_width, img_height, 3)),  # Convolutional layer with 32 filters\n",
        "    MaxPooling2D(2, 2),  # Max pooling layer\n",
        "    Conv2D(64, (3, 3), activation='relu'),  # Another convolutional layer with 64 filters\n",
        "    MaxPooling2D(2, 2),\n",
        "    Conv2D(128, (3, 3), activation='relu'),  # Another convolutional layer with 128 filters\n",
        "    MaxPooling2D(2, 2),\n",
        "    Flatten(),  # Flatten the 3D output to 1D for fully connected layers\n",
        "    Dense(512, activation='relu'),  # Fully connected layer with 512 neurons and ReLU activation\n",
        "    Dropout(0.5),  # Dropout layer\n",
        "    Dense(num_classes, activation='softmax')  # Output layer with softmax activation for classification\n",
        "])\n",
        "\n",
        "# Compile the model\n",
        "model.compile(optimizer='adam', loss='categorical_crossentropy', metrics=['accuracy'])\n",
        "\n",
        "# Print the model summary\n",
        "model.summary()\n"
      ],
      "metadata": {
        "colab": {
          "base_uri": "https://localhost:8080/"
        },
        "id": "To42KBATn5K4",
        "outputId": "d9cd425d-473c-46cc-c653-37bdcdc2a638"
      },
      "execution_count": null,
      "outputs": [
        {
          "output_type": "stream",
          "name": "stdout",
          "text": [
            "Model: \"sequential\"\n",
            "_________________________________________________________________\n",
            " Layer (type)                Output Shape              Param #   \n",
            "=================================================================\n",
            " conv2d (Conv2D)             (None, 222, 222, 32)      896       \n",
            "                                                                 \n",
            " max_pooling2d (MaxPooling2D  (None, 111, 111, 32)     0         \n",
            " )                                                               \n",
            "                                                                 \n",
            " conv2d_1 (Conv2D)           (None, 109, 109, 64)      18496     \n",
            "                                                                 \n",
            " max_pooling2d_1 (MaxPooling  (None, 54, 54, 64)       0         \n",
            " 2D)                                                             \n",
            "                                                                 \n",
            " conv2d_2 (Conv2D)           (None, 52, 52, 128)       73856     \n",
            "                                                                 \n",
            " max_pooling2d_2 (MaxPooling  (None, 26, 26, 128)      0         \n",
            " 2D)                                                             \n",
            "                                                                 \n",
            " flatten (Flatten)           (None, 86528)             0         \n",
            "                                                                 \n",
            " dense (Dense)               (None, 512)               44302848  \n",
            "                                                                 \n",
            " dropout (Dropout)           (None, 512)               0         \n",
            "                                                                 \n",
            " dense_1 (Dense)             (None, 4)                 2052      \n",
            "                                                                 \n",
            "=================================================================\n",
            "Total params: 44,398,148\n",
            "Trainable params: 44,398,148\n",
            "Non-trainable params: 0\n",
            "_________________________________________________________________\n"
          ]
        }
      ]
    },
    {
      "cell_type": "code",
      "source": [
        "# Train the model\n",
        "history = model.fit(\n",
        "    train_images, train_labels,\n",
        "    epochs=10,\n",
        "    batch_size=32,\n",
        "    validation_data=(val_images, val_labels)\n",
        ")"
      ],
      "metadata": {
        "colab": {
          "base_uri": "https://localhost:8080/"
        },
        "id": "ak8YZv8-of-e",
        "outputId": "bb3c8e63-0986-41ba-b38d-ce8a46d2ec81"
      },
      "execution_count": null,
      "outputs": [
        {
          "output_type": "stream",
          "name": "stdout",
          "text": [
            "Epoch 1/10\n",
            "113/113 [==============================] - 521s 5s/step - loss: 0.3323 - accuracy: 0.8784 - val_loss: 0.0437 - val_accuracy: 0.9955\n",
            "Epoch 2/10\n",
            "113/113 [==============================] - 521s 5s/step - loss: 0.0494 - accuracy: 0.9819 - val_loss: 0.0202 - val_accuracy: 0.9955\n",
            "Epoch 3/10\n",
            "113/113 [==============================] - 518s 5s/step - loss: 0.0147 - accuracy: 0.9964 - val_loss: 0.0026 - val_accuracy: 1.0000\n",
            "Epoch 4/10\n",
            "113/113 [==============================] - 504s 4s/step - loss: 0.0101 - accuracy: 0.9961 - val_loss: 0.0114 - val_accuracy: 0.9955\n",
            "Epoch 5/10\n",
            "113/113 [==============================] - 512s 5s/step - loss: 0.3485 - accuracy: 0.9816 - val_loss: 0.0252 - val_accuracy: 0.9888\n",
            "Epoch 6/10\n",
            "113/113 [==============================] - 497s 4s/step - loss: 0.0157 - accuracy: 0.9955 - val_loss: 0.0010 - val_accuracy: 1.0000\n",
            "Epoch 7/10\n",
            "113/113 [==============================] - 495s 4s/step - loss: 0.0051 - accuracy: 0.9983 - val_loss: 0.0030 - val_accuracy: 0.9978\n",
            "Epoch 8/10\n",
            "113/113 [==============================] - 501s 4s/step - loss: 0.0045 - accuracy: 0.9980 - val_loss: 1.7962e-04 - val_accuracy: 1.0000\n",
            "Epoch 9/10\n",
            "113/113 [==============================] - 503s 4s/step - loss: 0.0020 - accuracy: 0.9994 - val_loss: 0.0023 - val_accuracy: 1.0000\n",
            "Epoch 10/10\n",
            "113/113 [==============================] - 488s 4s/step - loss: 0.0046 - accuracy: 0.9986 - val_loss: 0.0013 - val_accuracy: 1.0000\n"
          ]
        }
      ]
    },
    {
      "cell_type": "code",
      "source": [
        "# Evaluate the model on the test set\n",
        "test_loss, test_accuracy = model.evaluate(test_images, test_labels)\n",
        "\n",
        "print(f\"Test Loss: {test_loss:.4f}\")\n",
        "print(f\"Test Accuracy: {test_accuracy:.4f}\")"
      ],
      "metadata": {
        "colab": {
          "base_uri": "https://localhost:8080/"
        },
        "id": "q2yGLiL0uVj4",
        "outputId": "031c793b-97ab-4d20-ead2-0ee7d24883f1"
      },
      "execution_count": null,
      "outputs": [
        {
          "output_type": "stream",
          "name": "stdout",
          "text": [
            "15/15 [==============================] - 18s 1s/step - loss: 0.0304 - accuracy: 0.9866\n",
            "Test Loss: 0.0304\n",
            "Test Accuracy: 0.9866\n"
          ]
        }
      ]
    },
    {
      "cell_type": "code",
      "source": [
        "import matplotlib.pyplot as plt\n",
        "\n",
        "# Plot training and validation accuracy\n",
        "plt.plot(history.history['accuracy'], label='Train Accuracy')\n",
        "plt.plot(history.history['val_accuracy'], label='Validation Accuracy')\n",
        "plt.xlabel('Epoch')\n",
        "plt.ylabel('Accuracy')\n",
        "plt.legend()\n",
        "plt.show()\n",
        "\n",
        "# Plot training and validation loss\n",
        "plt.plot(history.history['loss'], label='Train Loss')\n",
        "plt.plot(history.history['val_loss'], label='Validation Loss')\n",
        "plt.xlabel('Epoch')\n",
        "plt.ylabel('Loss')\n",
        "plt.legend()\n",
        "plt.show()"
      ],
      "metadata": {
        "colab": {
          "base_uri": "https://localhost:8080/",
          "height": 881
        },
        "id": "EuCRit8VMeN3",
        "outputId": "23cd63ef-6f3b-471e-a3e2-1d14d42eaa81"
      },
      "execution_count": null,
      "outputs": [
        {
          "output_type": "display_data",
          "data": {
            "text/plain": [
              "<Figure size 640x480 with 1 Axes>"
            ],
            "image/png": "[encoded data removed]"
          },
          "metadata": {}
        },
        {
          "output_type": "display_data",
          "data": {
            "text/plain": [
              "<Figure size 640x480 with 1 Axes>"
            ],
            "image/png": "[encoded data removed]"
          },
          "metadata": {}
        }
      ]
    }
  ]
}